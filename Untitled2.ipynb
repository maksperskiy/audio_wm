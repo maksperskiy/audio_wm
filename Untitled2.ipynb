{
 "cells": [
  {
   "cell_type": "code",
   "execution_count": 1,
   "id": "79ac87ac-d1b3-49eb-b92e-3183fad115c9",
   "metadata": {},
   "outputs": [],
   "source": [
    "import numpy as np\n",
    "import matplotlib.pyplot as plt\n",
    "import gi\n",
    "\n",
    "gi.require_version('Gst', '1.0')\n",
    "gi.require_version('GLib', '2.0')\n",
    "gi.require_version('GObject', '2.0')\n",
    "\n",
    "from gi.repository import GLib, Gst"
   ]
  },
  {
   "cell_type": "code",
   "execution_count": 2,
   "id": "66ce46aa-1a6b-4f8c-a997-cc075aa750c7",
   "metadata": {},
   "outputs": [],
   "source": [
    "def bus_call(bus, message, loop, pipe):\n",
    "    t = message.type\n",
    "    if t == Gst.MessageType.EOS:\n",
    "        pipe.set_state(Gst.State.NULL)\n",
    "        loop.quit()\n",
    "    elif t == Gst.MessageType.ERROR:\n",
    "        err, debug = message.parse_error()\n",
    "        print(f'{err}: {debug}')\n",
    "        pipe.set_state(Gst.State.NULL)\n",
    "        loop.quit()\n",
    "    return Gst.FlowReturn.OK"
   ]
  },
  {
   "cell_type": "code",
   "execution_count": 24,
   "id": "905d4226-511a-4932-8037-85e8b3237697",
   "metadata": {},
   "outputs": [],
   "source": [
    "i = 0\n",
    "sample = None"
   ]
  },
  {
   "cell_type": "code",
   "execution_count": 30,
   "id": "2f1c6ee2-3365-4b66-8407-81550e529074",
   "metadata": {},
   "outputs": [],
   "source": [
    "sample"
   ]
  },
  {
   "cell_type": "code",
   "execution_count": 25,
   "id": "52eb79c2-f29e-4688-b707-d02a60fcc1da",
   "metadata": {
    "tags": []
   },
   "outputs": [],
   "source": [
    "def handle_sample(sink):\n",
    "    global i\n",
    "    sample = sink.emit('pull-sample')\n",
    "    buffer = sample.get_buffer()\n",
    "    \n",
    "    success, map_info = buffer.map(Gst.MapFlags.READ)\n",
    "    \n",
    "    if not success:\n",
    "        raise RuntimeError(\"Could not map buffer data!\")\n",
    "    \n",
    "    if i == 0:\n",
    "        sample = map_info.data\n",
    "        i += 1\n",
    "    \n",
    "    arr = np.ndarray((buffer.get_size(), 1), buffer=buffer.extract_dup(0, buffer.get_size()), dtype=np.int8)\n",
    "    \n",
    "    data_list.append(arr)\n",
    "    buffer.unmap(map_info)\n",
    "    return Gst.FlowReturn.OK"
   ]
  },
  {
   "cell_type": "code",
   "execution_count": 26,
   "id": "defd9e8a-7fd8-435a-9fdc-de7ea708ed0e",
   "metadata": {},
   "outputs": [],
   "source": [
    "def pipe_init(source, on_new_sample):\n",
    "    Gst.init(None)\n",
    "    pipe = Gst.Pipeline.new('dynamic')\n",
    "\n",
    "    src = Gst.ElementFactory.make('filesrc')\n",
    "    # demux = Gst.ElementFactory.make('qtdemux')\n",
    "    decode = Gst.ElementFactory.make('decodebin')\n",
    "    convert = Gst.ElementFactory.make('audioconvert')\n",
    "    encode = Gst.ElementFactory.make(\"wavenc\")\n",
    "    sink = Gst.ElementFactory.make('appsink')\n",
    "\n",
    "    for item in (\n",
    "        src, \n",
    "        # demux,\n",
    "        decode, \n",
    "        convert, \n",
    "        encode, \n",
    "        sink\n",
    "    ):\n",
    "        pipe.add(item)\n",
    "\n",
    "    src.link(decode)\n",
    "    # demux.link(decode)\n",
    "    decode.connect('pad-added', lambda el, pad: pad.link(convert.get_static_pad('sink')))\n",
    "\n",
    "    convert.link(encode)\n",
    "    encode.link(sink)\n",
    "    \n",
    "    \n",
    "    src.set_property('location', source)\n",
    "\n",
    "    sink.set_property(\"emit-signals\", True)\n",
    "    sink.set_property(\"max-buffers\", 1)\n",
    "    sink.set_property(\"drop\", True)\n",
    "    sink.set_property(\"wait-on-eos\", True)\n",
    "    sink.set_property('sync', False)\n",
    "\n",
    "    sink.connect(\"new-sample\", on_new_sample)\n",
    "    \n",
    "    return pipe"
   ]
  },
  {
   "cell_type": "code",
   "execution_count": 27,
   "id": "0f769147-7c88-49af-995f-a9f24ce69414",
   "metadata": {},
   "outputs": [],
   "source": [
    "def run(source, sink_callback):\n",
    "    loop = GLib.MainLoop()\n",
    "    pipe = pipe_init(source, sink_callback)\n",
    "\n",
    "    bus = pipe.get_bus()\n",
    "    bus.add_signal_watch()\n",
    "    bus.enable_sync_message_emission()\n",
    "    bus.connect('message', bus_call, loop, pipe)\n",
    "\n",
    "    pipe.set_state(Gst.State.PLAYING)\n",
    "    loop.run()"
   ]
  },
  {
   "cell_type": "code",
   "execution_count": 28,
   "id": "27c434de-dc0c-4707-81de-a876344bfb5f",
   "metadata": {},
   "outputs": [],
   "source": [
    "data_list = []"
   ]
  },
  {
   "cell_type": "code",
   "execution_count": 29,
   "id": "9a14c598-64ed-4a6f-9456-12f47878a191",
   "metadata": {
    "tags": []
   },
   "outputs": [],
   "source": [
    "run('video.mp4', handle_sample)"
   ]
  },
  {
   "cell_type": "code",
   "execution_count": 11,
   "id": "f9b8ab5e-d466-44d0-bb73-916c68ab454b",
   "metadata": {},
   "outputs": [],
   "source": [
    "data = [item[0] for sublist in data_list for item in sublist]"
   ]
  },
  {
   "cell_type": "code",
   "execution_count": 12,
   "id": "dcb4e1f3-93d4-4bf8-b51b-fd83e0c951d7",
   "metadata": {},
   "outputs": [
    {
     "data": {
      "text/plain": [
       "4653132"
      ]
     },
     "execution_count": 12,
     "metadata": {},
     "output_type": "execute_result"
    }
   ],
   "source": [
    "len(data)"
   ]
  },
  {
   "cell_type": "code",
   "execution_count": 477,
   "id": "b19feacf-7d71-414a-b36f-09ac3115a038",
   "metadata": {},
   "outputs": [
    {
     "data": {
      "image/png": "[encoded data removed]",
      "text/plain": [
       "<Figure size 2400x200 with 1 Axes>"
      ]
     },
     "metadata": {},
     "output_type": "display_data"
    }
   ],
   "source": [
    "time = np.linspace(\n",
    "    0,\n",
    "    len(data) / 44100,\n",
    "    num = len(data)\n",
    ")\n",
    "\n",
    "plt.figure(1, figsize=(24, 2))\n",
    "\n",
    "plt.title(\"Sound Wave\")\n",
    "plt.xlabel(\"Time\")\n",
    "\n",
    "plt.plot(time, data)\n",
    "\n",
    "plt.show()"
   ]
  },
  {
   "cell_type": "code",
   "execution_count": null,
   "id": "2647cad3-6ba9-4fbe-9e37-b795cee6bf87",
   "metadata": {},
   "outputs": [],
   "source": []
  },
  {
   "cell_type": "code",
   "execution_count": 465,
   "id": "5a5c95f3-40c6-4061-8e4e-8a8101d681e1",
   "metadata": {},
   "outputs": [],
   "source": [
    "from scipy.io.wavfile import write\n",
    "# 32767\n",
    "rate = 44100*8\n",
    "scaled = np.int16(data / np.max(np.abs(data)) * 32767)\n",
    "write('test.wav', rate, scaled)\n"
   ]
  },
  {
   "cell_type": "code",
   "execution_count": null,
   "id": "f52b9329-b23e-4ed0-9651-9a3709d2e3e1",
   "metadata": {},
   "outputs": [],
   "source": []
  }
 ],
 "metadata": {
  "kernelspec": {
   "display_name": "Python 3 (ipykernel)",
   "language": "python",
   "name": "python3"
  },
  "language_info": {
   "codemirror_mode": {
    "name": "ipython",
    "version": 3
   },
   "file_extension": ".py",
   "mimetype": "text/x-python",
   "name": "python",
   "nbconvert_exporter": "python",
   "pygments_lexer": "ipython3",
   "version": "3.9.12"
  }
 },
 "nbformat": 4,
 "nbformat_minor": 5
}
