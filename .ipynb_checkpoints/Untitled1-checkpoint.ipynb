{
 "cells": [
  {
   "cell_type": "code",
   "execution_count": null,
   "id": "85e2f4e1-fa97-4ad0-9b64-f58264d166f7",
   "metadata": {
    "tags": []
   },
   "outputs": [],
   "source": [
    "import gi\n",
    "\n",
    "gi.require_version(\"Gst\", \"1.0\")\n",
    "from gi.repository import Gst, GObject\n",
    "import numpy as np"
   ]
  },
  {
   "cell_type": "code",
   "execution_count": null,
   "id": "0ffce72d-4c78-43f6-88fe-e384dc6064d2",
   "metadata": {
    "tags": []
   },
   "outputs": [
    {
     "data": {
      "text/plain": [
       "[]"
      ]
     },
     "execution_count": 2,
     "metadata": {},
     "output_type": "execute_result"
    }
   ],
   "source": [
    "Gst.init(None)"
   ]
  },
  {
   "cell_type": "code",
   "execution_count": null,
   "id": "91ad6e22-dc48-4671-b037-5553fe4753f4",
   "metadata": {
    "tags": []
   },
   "outputs": [],
   "source": [
    "pipeline = Gst.Pipeline()"
   ]
  },
  {
   "cell_type": "code",
   "execution_count": null,
   "id": "3c1ae592-a93c-4089-8e58-0f30730207ae",
   "metadata": {},
   "outputs": [],
   "source": []
  },
  {
   "cell_type": "code",
   "execution_count": null,
   "id": "d6cee0f1-40a6-4391-a54c-eb5e2845a283",
   "metadata": {
    "tags": []
   },
   "outputs": [],
   "source": [
    "filesrc = Gst.ElementFactory.make(\"filesrc\", \"filesrc\")\n",
    "filesrc.set_property(\"location\", \"video.mp4\")"
   ]
  },
  {
   "cell_type": "code",
   "execution_count": null,
   "id": "0c977955-36c6-4cfd-a9aa-43180b80063e",
   "metadata": {
    "tags": []
   },
   "outputs": [],
   "source": [
    "decodebin = Gst.ElementFactory.make(\"decodebin\", \"decodebin\")"
   ]
  },
  {
   "cell_type": "code",
   "execution_count": null,
   "id": "19c8970a-6f23-413a-a600-0b1d27ecd71a",
   "metadata": {
    "tags": []
   },
   "outputs": [],
   "source": [
    "audioconvert = Gst.ElementFactory.make(\"audioconvert\", \"audioconvert\")"
   ]
  },
  {
   "cell_type": "code",
   "execution_count": null,
   "id": "18f552d1-a04f-4697-bf0e-43f8428f65bd",
   "metadata": {
    "tags": []
   },
   "outputs": [],
   "source": [
    "audioresample = Gst.ElementFactory.make(\"audioresample\", \"audioresample\")"
   ]
  },
  {
   "cell_type": "code",
   "execution_count": null,
   "id": "f9397976-0e19-44c4-a8ba-54bd9cf665bc",
   "metadata": {
    "tags": []
   },
   "outputs": [],
   "source": [
    "appsink = Gst.ElementFactory.make(\"appsink\", \"appsink\")\n",
    "appsink.set_property(\"emit-signals\", True)\n",
    "appsink.set_property(\"max-buffers\", 1)\n",
    "appsink.set_property(\"drop\", True)"
   ]
  },
  {
   "cell_type": "code",
   "execution_count": null,
   "id": "2cfd7071-1519-452a-befd-6794b085defd",
   "metadata": {
    "tags": []
   },
   "outputs": [],
   "source": [
    "pipeline.add(filesrc)\n",
    "pipeline.add(decodebin)\n",
    "pipeline.add(audioconvert)\n",
    "pipeline.add(audioresample)\n",
    "pipeline.add(appsink)"
   ]
  },
  {
   "cell_type": "code",
   "execution_count": null,
   "id": "1a7a77eb-1ed3-473b-9d4e-27bda8f7e7c8",
   "metadata": {
    "tags": []
   },
   "outputs": [],
   "source": [
    "filesrc.link(decodebin)\n",
    "decodebin.connect(\n",
    "    \"pad-added\", lambda dbin, pad: pad.link(audioconvert.get_static_pad(\"sink\"))\n",
    ")\n",
    "audioconvert.link(audioresample)\n",
    "audioresample.link(appsink)"
   ]
  },
  {
   "cell_type": "code",
   "execution_count": null,
   "id": "d9f92829-3516-46c6-bf09-32da069525e8",
   "metadata": {
    "tags": []
   },
   "outputs": [],
   "source": [
    "pipeline.set_state(Gst.State.PLAYING)"
   ]
  },
  {
   "cell_type": "code",
   "execution_count": null,
   "id": "6ac272ab-fd8d-464a-8a57-716ac9324c55",
   "metadata": {
    "tags": []
   },
   "outputs": [],
   "source": [
    "data = None"
   ]
  },
  {
   "cell_type": "code",
   "execution_count": null,
   "id": "760313f1-4f29-4c55-b9b5-0fd6f1b6ff08",
   "metadata": {
    "tags": []
   },
   "outputs": [],
   "source": [
    "while True:\n",
    "    sample = appsink.emit(\"pull-sample\")\n",
    "    if sample:\n",
    "        buf = sample.get_buffer()\n",
    "        caps = sample.get_caps()\n",
    "        if caps.get_structure(0).get_name() == \"audio/x-raw\":\n",
    "            arr = np.ndarray(\n",
    "                (caps.get_structure(0).get_value(\"channels\"), -1),\n",
    "                buffer=buf.extract_dup(0, buf.get_size()),\n",
    "                dtype=np.float32,\n",
    "            )\n",
    "            data = arr.T\n",
    "            break"
   ]
  },
  {
   "cell_type": "code",
   "execution_count": null,
   "id": "11f4336f-6820-4cf7-a181-66f409e4eaea",
   "metadata": {
    "tags": []
   },
   "outputs": [],
   "source": [
    "pipeline.set_state(Gst.State.PLAYING)"
   ]
  },
  {
   "cell_type": "code",
   "execution_count": null,
   "id": "6d584044-c718-4d42-a3b7-1ca87abe6bd7",
   "metadata": {
    "tags": []
   },
   "outputs": [],
   "source": [
    "pipeline.set_state(Gst.State.NULL)"
   ]
  },
  {
   "cell_type": "code",
   "execution_count": null,
   "id": "25016689-6b9c-4e8f-9dda-0d1999645f4c",
   "metadata": {},
   "outputs": [],
   "source": []
  },
  {
   "cell_type": "code",
   "execution_count": null,
   "id": "41415ab8-82da-4115-ac25-6a4a613aa4f4",
   "metadata": {},
   "outputs": [],
   "source": []
  }
 ],
 "metadata": {
  "kernelspec": {
   "display_name": "Python 3 (ipykernel)",
   "language": "python",
   "name": "python3"
  },
  "language_info": {
   "codemirror_mode": {
    "name": "ipython",
    "version": 3
   },
   "file_extension": ".py",
   "mimetype": "text/x-python",
   "name": "python",
   "nbconvert_exporter": "python",
   "pygments_lexer": "ipython3",
   "version": "3.10.4"
  }
 },
 "nbformat": 4,
 "nbformat_minor": 5
}
