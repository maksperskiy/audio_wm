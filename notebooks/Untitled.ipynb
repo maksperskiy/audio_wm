{
 "cells": [
  {
   "cell_type": "code",
   "execution_count": 1,
   "id": "192a2b96-e074-486d-9aa1-9c09fe175fd2",
   "metadata": {
    "tags": []
   },
   "outputs": [],
   "source": [
    "import numpy as np\n",
    "import os\n",
    "import gi"
   ]
  },
  {
   "cell_type": "code",
   "execution_count": 2,
   "id": "8a721d54-52a0-4a09-8ef1-a9ca2bc9d35b",
   "metadata": {
    "tags": []
   },
   "outputs": [],
   "source": [
    "gi.require_version('Gst', '1.0')"
   ]
  },
  {
   "cell_type": "code",
   "execution_count": 3,
   "id": "0ad85553-0828-468f-8dfd-93958df10d79",
   "metadata": {
    "tags": []
   },
   "outputs": [],
   "source": [
    "from gi.repository import Gst"
   ]
  },
  {
   "cell_type": "code",
   "execution_count": 4,
   "id": "a5ac1b5d-c24e-408b-ab48-088f4d4e11fe",
   "metadata": {
    "tags": []
   },
   "outputs": [
    {
     "data": {
      "text/plain": [
       "[]"
      ]
     },
     "execution_count": 4,
     "metadata": {},
     "output_type": "execute_result"
    }
   ],
   "source": [
    "Gst.init(None)"
   ]
  },
  {
   "cell_type": "code",
   "execution_count": null,
   "id": "2ef1e341-523b-4d18-9de2-b04169f7f409",
   "metadata": {},
   "outputs": [],
   "source": []
  },
  {
   "cell_type": "code",
   "execution_count": null,
   "id": "5cea44db-12a3-4f4b-9f29-d90520119e55",
   "metadata": {
    "tags": []
   },
   "outputs": [],
   "source": []
  },
  {
   "cell_type": "code",
   "execution_count": null,
   "id": "59f8cfce-0247-4f96-a361-0fd0a5efcf6a",
   "metadata": {},
   "outputs": [],
   "source": []
  },
  {
   "cell_type": "code",
   "execution_count": null,
   "id": "394b6cff-b238-45da-a023-0dc7c804e11d",
   "metadata": {},
   "outputs": [],
   "source": []
  },
  {
   "cell_type": "code",
   "execution_count": null,
   "id": "56f30287-caf8-42fe-9438-d928bd936264",
   "metadata": {},
   "outputs": [],
   "source": []
  },
  {
   "cell_type": "code",
   "execution_count": null,
   "id": "93d46607-7bb5-4f0b-947e-04b303b62336",
   "metadata": {},
   "outputs": [],
   "source": []
  },
  {
   "cell_type": "code",
   "execution_count": null,
   "id": "6ece6808-43db-4711-851c-c6e51785c965",
   "metadata": {},
   "outputs": [],
   "source": []
  },
  {
   "cell_type": "code",
   "execution_count": null,
   "id": "6e39696a-b951-4863-9571-0069948d56ef",
   "metadata": {},
   "outputs": [],
   "source": []
  },
  {
   "cell_type": "code",
   "execution_count": null,
   "id": "666988ec-6e21-4afb-a868-449e68639944",
   "metadata": {},
   "outputs": [],
   "source": []
  },
  {
   "cell_type": "code",
   "execution_count": 19,
   "id": "0a3546fa-c537-49fe-a326-63b6522950d4",
   "metadata": {
    "tags": []
   },
   "outputs": [],
   "source": [
    "pipeline = Gst.Pipeline()\n",
    "bus = pipeline.get_bus()"
   ]
  },
  {
   "cell_type": "code",
   "execution_count": 20,
   "id": "decd5021-9a89-4064-bc14-78de28ff88c2",
   "metadata": {
    "tags": []
   },
   "outputs": [],
   "source": [
    "# msg = bus.timed_pop_filtered(\n",
    "#     Gst.CLOCK_TIME_NONE, Gst.MessageType.ERROR | Gst.MessageType.EOS\n",
    "# )"
   ]
  },
  {
   "cell_type": "code",
   "execution_count": 21,
   "id": "36100442-834c-4bee-8e57-462e2397d49d",
   "metadata": {
    "tags": []
   },
   "outputs": [],
   "source": [
    "filesrc = Gst.ElementFactory.make(\"filesrc\", \"filesrc\")\n",
    "filesrc.set_property(\"location\", \"video.mp4\")\n",
    "decode = Gst.ElementFactory.make(\"decodebin\", \"decode\")\n",
    "convert = Gst.ElementFactory.make(\"audioconvert\", \"convert\")\n",
    "au = Gst.ElementFactory.make(\"lamemp3enc\", \"au\")\n",
    "sink = Gst.ElementFactory.make('filesink', 'sink')\n",
    "sink.set_property('location', 'test.mp3')"
   ]
  },
  {
   "cell_type": "code",
   "execution_count": 23,
   "id": "a0c547f3-655c-4fb0-ba3c-f6f943dc69bb",
   "metadata": {
    "tags": []
   },
   "outputs": [
    {
     "data": {
      "text/plain": [
       "True"
      ]
     },
     "execution_count": 23,
     "metadata": {},
     "output_type": "execute_result"
    }
   ],
   "source": [
    "pipeline.add(filesrc)\n",
    "pipeline.add(decode)\n",
    "pipeline.add(convert)\n",
    "pipeline.add(au)\n",
    "pipeline.add(sink)"
   ]
  },
  {
   "cell_type": "code",
   "execution_count": 24,
   "id": "093d9e55-9253-48e0-ba63-535d2254db30",
   "metadata": {
    "tags": []
   },
   "outputs": [
    {
     "data": {
      "text/plain": [
       "True"
      ]
     },
     "execution_count": 24,
     "metadata": {},
     "output_type": "execute_result"
    }
   ],
   "source": [
    "filesrc.link(decode)\n",
    "decode.link(convert)\n",
    "convert.link(au)\n",
    "au.link(sink)"
   ]
  },
  {
   "cell_type": "code",
   "execution_count": 30,
   "id": "f88d1f94-996b-4ced-b392-1bcd4d7503b9",
   "metadata": {
    "tags": []
   },
   "outputs": [],
   "source": [
    "def on_message(self, bus, message):\n",
    "    t = message.type\n",
    "    print(t)\n",
    "    if t == Gst.MessageType.EOS:\n",
    "        self.player.set_state(Gst.State.NULL)\n",
    "        self.button.set_label(\"Start\")\n",
    "    elif t == Gst.MessageType.ERROR:\n",
    "        self.player.set_state(Gst.State.NULL)\n",
    "        self.button.set_label(\"Start\")\n",
    "        err, debug = message.parse_error()\n",
    "        print(\"Error: %s\" % err, debug)"
   ]
  },
  {
   "cell_type": "code",
   "execution_count": 31,
   "id": "21ab0f5f-17c2-48ed-aa93-2d1cb262fb9d",
   "metadata": {
    "tags": []
   },
   "outputs": [
    {
     "data": {
      "text/plain": [
       "20"
      ]
     },
     "execution_count": 31,
     "metadata": {},
     "output_type": "execute_result"
    }
   ],
   "source": [
    "bus = pipeline.get_bus()\n",
    "bus.connect(\"message\", on_message)"
   ]
  },
  {
   "cell_type": "code",
   "execution_count": 32,
   "id": "9ee0fe25-0284-47c2-85ec-504018e0ad36",
   "metadata": {
    "tags": []
   },
   "outputs": [
    {
     "data": {
      "text/plain": [
       "<enum GST_STATE_CHANGE_ASYNC of type Gst.StateChangeReturn>"
      ]
     },
     "execution_count": 32,
     "metadata": {},
     "output_type": "execute_result"
    }
   ],
   "source": [
    "pipeline.set_state(Gst.State.PLAYING)"
   ]
  },
  {
   "cell_type": "code",
   "execution_count": 33,
   "id": "0a07b8f0-4ac5-4e3d-963f-6ac97b71dcd2",
   "metadata": {
    "tags": []
   },
   "outputs": [],
   "source": [
    "# pipeline.get_state(Gst.CLOCK_TIME_NONE)"
   ]
  },
  {
   "cell_type": "code",
   "execution_count": 34,
   "id": "a3381d9f-89d3-4baf-8cdf-b46ac61793dc",
   "metadata": {
    "tags": []
   },
   "outputs": [
    {
     "data": {
      "text/plain": [
       "<enum GST_STATE_CHANGE_SUCCESS of type Gst.StateChangeReturn>"
      ]
     },
     "execution_count": 34,
     "metadata": {},
     "output_type": "execute_result"
    }
   ],
   "source": [
    "pipeline.set_state(Gst.State.NULL)"
   ]
  },
  {
   "cell_type": "code",
   "execution_count": null,
   "id": "c0cbc2c7-f941-45b3-9908-5055106564da",
   "metadata": {},
   "outputs": [],
   "source": []
  },
  {
   "cell_type": "code",
   "execution_count": 95,
   "id": "fb7e7df7-f018-4ba7-86cd-e7fe0ac190d6",
   "metadata": {
    "tags": []
   },
   "outputs": [],
   "source": [
    "filesrc = Gst.ElementFactory.make(\"filesrc\", \"filesrc\")\n",
    "filesrc.set_property(\"location\", \"video.mp4\")"
   ]
  },
  {
   "cell_type": "code",
   "execution_count": 96,
   "id": "f60d1baa-9135-4bb8-be90-47f72a73c7e2",
   "metadata": {
    "tags": []
   },
   "outputs": [],
   "source": [
    "decode = Gst.ElementFactory.make(\"decodebin\", \"decode\")"
   ]
  },
  {
   "cell_type": "code",
   "execution_count": 79,
   "id": "9361b101-da87-484b-8a62-cf6eb02ee378",
   "metadata": {
    "tags": []
   },
   "outputs": [],
   "source": [
    "convert = Gst.ElementFactory.make(\"audioconvert\", \"convert\")"
   ]
  },
  {
   "cell_type": "code",
   "execution_count": 80,
   "id": "581b3d4d-83ee-495f-8c31-993e1a238254",
   "metadata": {
    "tags": []
   },
   "outputs": [],
   "source": [
    "resample = Gst.ElementFactory.make(\"audioresample\", \"resample\")"
   ]
  },
  {
   "cell_type": "code",
   "execution_count": 81,
   "id": "f475a4cd-48af-42a2-a0c8-ad8d644b473b",
   "metadata": {
    "tags": []
   },
   "outputs": [],
   "source": [
    "sink = Gst.ElementFactory.make(\"autoaudiosink\", \"sink\")"
   ]
  },
  {
   "cell_type": "code",
   "execution_count": 82,
   "id": "2ee80cfd-fdec-42a8-87de-c7f7c407a8cf",
   "metadata": {
    "tags": []
   },
   "outputs": [],
   "source": [
    "sink = Gst.ElementFactory.make('filesink', 'sink')\n",
    "sink.set_property('location', 'test.wav')"
   ]
  },
  {
   "cell_type": "code",
   "execution_count": 83,
   "id": "17b9912e-b863-4247-9b36-ee252d8566c2",
   "metadata": {
    "tags": []
   },
   "outputs": [
    {
     "data": {
      "text/plain": [
       "True"
      ]
     },
     "execution_count": 83,
     "metadata": {},
     "output_type": "execute_result"
    }
   ],
   "source": [
    "pipeline.add(filesrc)\n",
    "pipeline.add(decode)\n",
    "pipeline.add(convert)\n",
    "pipeline.add(resample) \n",
    "pipeline.add(sink)"
   ]
  },
  {
   "cell_type": "code",
   "execution_count": 85,
   "id": "9e1b2cb8-1a44-4e5a-b520-1454890d3c61",
   "metadata": {
    "tags": []
   },
   "outputs": [
    {
     "data": {
      "text/plain": [
       "True"
      ]
     },
     "execution_count": 85,
     "metadata": {},
     "output_type": "execute_result"
    }
   ],
   "source": [
    "filesrc.link(decode)"
   ]
  },
  {
   "cell_type": "code",
   "execution_count": 86,
   "id": "c0cbd541-0432-4a21-8055-283beddb3479",
   "metadata": {
    "tags": []
   },
   "outputs": [],
   "source": [
    "def on_pad_added(element, pad, message):\n",
    "    print(pad)\n",
    "    print(message)\n",
    "    # pad.link(sink_pad)\n",
    "    print(\"Pad added\")\n",
    "    print(\"Pad name:\", pad.get_name())\n",
    "    print(\"Pad type:\", pad.query_caps(None).to_string())\n",
    "    print(\"Pad direction:\", pad.get_direction())\n",
    "    print(\"Pad template:\", pad.get_pad_template())\n",
    "    print(\"Pad message type:\", pad.get_property(\"message-type\"))"
   ]
  },
  {
   "cell_type": "code",
   "execution_count": 87,
   "id": "bb1ea7a8-14d4-4c84-9866-98ed68a5e581",
   "metadata": {
    "tags": []
   },
   "outputs": [
    {
     "data": {
      "text/plain": [
       "40"
      ]
     },
     "execution_count": 87,
     "metadata": {},
     "output_type": "execute_result"
    }
   ],
   "source": [
    "decode.connect(\"pad-added\", on_pad_added, convert)"
   ]
  },
  {
   "cell_type": "code",
   "execution_count": 88,
   "id": "bbefaa77-214c-4a09-9fe4-1283252e7135",
   "metadata": {
    "tags": []
   },
   "outputs": [
    {
     "data": {
      "text/plain": [
       "True"
      ]
     },
     "execution_count": 88,
     "metadata": {},
     "output_type": "execute_result"
    }
   ],
   "source": [
    "convert.link(resample)"
   ]
  },
  {
   "cell_type": "code",
   "execution_count": 89,
   "id": "5acf2a1f-ce6b-4435-ac25-a7e91c62bc62",
   "metadata": {
    "tags": []
   },
   "outputs": [
    {
     "data": {
      "text/plain": [
       "True"
      ]
     },
     "execution_count": 89,
     "metadata": {},
     "output_type": "execute_result"
    }
   ],
   "source": [
    "resample.link(sink)"
   ]
  },
  {
   "cell_type": "code",
   "execution_count": 115,
   "id": "794d3956-cc68-4d20-97bb-2e9aadd97660",
   "metadata": {
    "tags": []
   },
   "outputs": [
    {
     "data": {
      "text/plain": [
       "<enum GST_STATE_CHANGE_ASYNC of type Gst.StateChangeReturn>"
      ]
     },
     "execution_count": 115,
     "metadata": {},
     "output_type": "execute_result"
    }
   ],
   "source": [
    "pipeline.set_state(Gst.State.PLAYING)"
   ]
  },
  {
   "cell_type": "code",
   "execution_count": 116,
   "id": "3e0956d7-88b2-45cc-af0d-83c32943972d",
   "metadata": {
    "tags": []
   },
   "outputs": [],
   "source": [
    "# pipeline.get_state(Gst.CLOCK_TIME_NONE)"
   ]
  },
  {
   "cell_type": "code",
   "execution_count": 117,
   "id": "acd27fe7-0d23-4626-beeb-812f7711d790",
   "metadata": {
    "tags": []
   },
   "outputs": [
    {
     "data": {
      "text/plain": [
       "<enum GST_STATE_CHANGE_SUCCESS of type Gst.StateChangeReturn>"
      ]
     },
     "execution_count": 117,
     "metadata": {},
     "output_type": "execute_result"
    }
   ],
   "source": [
    "pipeline.set_state(Gst.State.NULL)"
   ]
  },
  {
   "cell_type": "code",
   "execution_count": null,
   "id": "45392024-2cea-4026-80bb-75fda90311c0",
   "metadata": {},
   "outputs": [],
   "source": []
  },
  {
   "cell_type": "code",
   "execution_count": null,
   "id": "a1e7f615-a457-4c72-be9a-c7b5bd306175",
   "metadata": {},
   "outputs": [],
   "source": []
  }
 ],
 "metadata": {
  "kernelspec": {
   "display_name": "Python 3 (ipykernel)",
   "language": "python",
   "name": "python3"
  },
  "language_info": {
   "codemirror_mode": {
    "name": "ipython",
    "version": 3
   },
   "file_extension": ".py",
   "mimetype": "text/x-python",
   "name": "python",
   "nbconvert_exporter": "python",
   "pygments_lexer": "ipython3",
   "version": "3.10.4"
  }
 },
 "nbformat": 4,
 "nbformat_minor": 5
}
