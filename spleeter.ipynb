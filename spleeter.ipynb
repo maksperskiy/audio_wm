{
 "cells": [
  {
   "cell_type": "code",
   "execution_count": 7,
   "metadata": {},
   "outputs": [],
   "source": [
    "import numpy as np\n",
    "from scipy.io import wavfile\n",
    "from spleeter.separator import Separator"
   ]
  },
  {
   "cell_type": "code",
   "execution_count": 2,
   "metadata": {},
   "outputs": [],
   "source": [
    "MODEL_TO_INST = {\n",
    "    'spleeter:2stems': ('vocals', 'accompaniment'),\n",
    "    'spleeter:4stems': ('vocals', 'drums', 'bass', 'other'),\n",
    "    'spleeter:5stems': ('vocals', 'drums', 'bass', 'piano', 'other'),\n",
    "}"
   ]
  },
  {
   "cell_type": "code",
   "execution_count": 31,
   "metadata": {},
   "outputs": [],
   "source": [
    "configuration = 'spleeter:2stems'\n",
    "backend = 'librosa'"
   ]
  },
  {
   "cell_type": "code",
   "execution_count": 32,
   "metadata": {},
   "outputs": [],
   "source": [
    "samplerate, waveform = wavfile.read('./out.wav')"
   ]
  },
  {
   "cell_type": "code",
   "execution_count": 37,
   "metadata": {},
   "outputs": [],
   "source": [
    "instruments = MODEL_TO_INST[configuration]\n",
    "separator = Separator(\n",
    "    configuration, stft_backend=backend, multiprocess=True)"
   ]
  },
  {
   "cell_type": "code",
   "execution_count": 39,
   "metadata": {},
   "outputs": [],
   "source": [
    "prediction = separator.separate(waveform)\n",
    "\n",
    "for instrument in instruments:\n",
    "    track = prediction[instrument]\n",
    "    wavfile.write(instrument+'.wav', samplerate, track)"
   ]
  },
  {
   "cell_type": "code",
   "execution_count": null,
   "metadata": {},
   "outputs": [],
   "source": []
  }
 ],
 "metadata": {
  "kernelspec": {
   "display_name": ".venv",
   "language": "python",
   "name": "python3"
  },
  "language_info": {
   "codemirror_mode": {
    "name": "ipython",
    "version": 3
   },
   "file_extension": ".py",
   "mimetype": "text/x-python",
   "name": "python",
   "nbconvert_exporter": "python",
   "pygments_lexer": "ipython3",
   "version": "3.9.6"
  },
  "orig_nbformat": 4,
  "vscode": {
   "interpreter": {
    "hash": "0fff0a4cf5406f2886da24c33d4f097071eefa736de73baac29081d182dd06e5"
   }
  }
 },
 "nbformat": 4,
 "nbformat_minor": 2
}
