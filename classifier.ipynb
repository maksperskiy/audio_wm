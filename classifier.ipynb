{
 "cells": [
  {
   "cell_type": "code",
   "execution_count": 3,
   "metadata": {},
   "outputs": [],
   "source": [
    "import tensorflow as tf\n",
    "import numpy as np\n",
    "from scipy.io import wavfile\n",
    "import zipfile"
   ]
  },
  {
   "cell_type": "code",
   "execution_count": 4,
   "metadata": {},
   "outputs": [],
   "source": [
    "interpreter = tf.lite.Interpreter('./lite-model_yamnet_classification_tflite.tflite')"
   ]
  },
  {
   "cell_type": "code",
   "execution_count": 9,
   "metadata": {},
   "outputs": [],
   "source": [
    "input_details = interpreter.get_input_details()\n",
    "waveform_input_index = input_details[0]['index']\n",
    "output_details = interpreter.get_output_details()\n",
    "scores_output_index = output_details[0]['index']"
   ]
  },
  {
   "cell_type": "code",
   "execution_count": 21,
   "metadata": {},
   "outputs": [],
   "source": [
    "samplerate, waveform = wavfile.read('./out.wav')"
   ]
  },
  {
   "cell_type": "code",
   "execution_count": 22,
   "metadata": {},
   "outputs": [],
   "source": [
    "waveform = waveform[:15600,0]"
   ]
  },
  {
   "cell_type": "code",
   "execution_count": 23,
   "metadata": {},
   "outputs": [
    {
     "name": "stdout",
     "output_type": "stream",
     "text": [
      "(1, 521)\n"
     ]
    }
   ],
   "source": [
    "interpreter.resize_tensor_input(waveform_input_index, [waveform.size], strict=True)\n",
    "interpreter.allocate_tensors()\n",
    "interpreter.set_tensor(waveform_input_index, waveform)\n",
    "interpreter.invoke()\n",
    "scores = interpreter.get_tensor(scores_output_index)\n",
    "print(scores.shape)  # Should print (1, 521)"
   ]
  },
  {
   "cell_type": "code",
   "execution_count": 24,
   "metadata": {},
   "outputs": [
    {
     "name": "stdout",
     "output_type": "stream",
     "text": [
      "521\n",
      "Whack, thwack\n"
     ]
    }
   ],
   "source": [
    "top_class_index = scores.argmax()\n",
    "labels_file = zipfile.ZipFile('./lite-model_yamnet_classification_tflite.tflite').open('yamnet_label_list.txt')\n",
    "labels = [l.decode('utf-8').strip() for l in labels_file.readlines()]\n",
    "print(len(labels))  # Should print 521\n",
    "print(labels[top_class_index])\n"
   ]
  },
  {
   "cell_type": "code",
   "execution_count": null,
   "metadata": {},
   "outputs": [],
   "source": []
  },
  {
   "cell_type": "code",
   "execution_count": null,
   "metadata": {},
   "outputs": [],
   "source": []
  }
 ],
 "metadata": {
  "kernelspec": {
   "display_name": ".venv",
   "language": "python",
   "name": "python3"
  },
  "language_info": {
   "codemirror_mode": {
    "name": "ipython",
    "version": 3
   },
   "file_extension": ".py",
   "mimetype": "text/x-python",
   "name": "python",
   "nbconvert_exporter": "python",
   "pygments_lexer": "ipython3",
   "version": "3.9.6"
  },
  "orig_nbformat": 4,
  "vscode": {
   "interpreter": {
    "hash": "0fff0a4cf5406f2886da24c33d4f097071eefa736de73baac29081d182dd06e5"
   }
  }
 },
 "nbformat": 4,
 "nbformat_minor": 2
}
